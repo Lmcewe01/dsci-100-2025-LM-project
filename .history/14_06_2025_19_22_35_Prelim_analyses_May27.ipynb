{
 "cells": [
  {
   "cell_type": "markdown",
   "id": "71a04cb4-efd8-4239-af14-d074d5f97a44",
   "metadata": {},
   "source": [
    "**DSCI 100 Final Project: Predicting Usage of a Video Game Research Server**\n",
    "\n",
    "Question #2: We would like to know which \"kinds\" of players are most likely to contribute a large amount of data so that we can target those players in our recruiting efforts.\n",
    "\n",
    "*Research Question: Can we predict playing time based on age?*\n"
   ]
  },
  {
   "cell_type": "code",
   "execution_count": null,
   "id": "502f155d-aed9-4687-974e-0e5cd85050f2",
   "metadata": {},
   "outputs": [],
   "source": [
    "#loading libraries for analyses - to install, use install.packages()!\n",
    "library(tidyverse)\n",
    "library(readr)\n",
    "library(tidymodels)\n",
    "library(scales)\n",
    "library(janitor)\n",
    "\n",
    "#preset the max rows shown when displaying data\n",
    "options(repr.matrix.max.rows = 6)"
   ]
  },
  {
   "cell_type": "code",
   "execution_count": null,
   "id": "734513ba-b0d3-48a8-929e-bcc4102477b1",
   "metadata": {},
   "outputs": [],
   "source": [
    "#find working directory\n",
    "getwd()\n",
    "\n",
    "#read in the appropriate dataset called players.csv using a relative path and\n",
    "#cleaning col names to remove uneccessary capitals\n",
    "players <- read_delim('Data/players.csv', delim = ',', skip = 1 ) |> clean_names()\n",
    "players"
   ]
  },
  {
   "cell_type": "code",
   "execution_count": null,
   "id": "be96f2a3-85f5-4ab7-b0c8-ee76dbcb51d0",
   "metadata": {},
   "outputs": [],
   "source": [
    "#setting dimensions for the plots\n",
    "options(repr.plot.length = 10, repr.plot.width = 10)\n",
    "\n",
    "#Exploratory plots to better understand the dataset \n",
    "playr_time_age_plot <- players |> ggplot(aes(x = age, \n",
    "                            y = played_hours)) +\n",
    "                    geom_point() +  \n",
    "                    labs(color = \"Did the player subscribe?\") +\n",
    "                    ylab(\"Total hours Played\") + xlab(\"Age (in Years)\")\n",
    "\n",
    "playr_time_age_plot \n",
    "\n",
    "#we see a lot of points near the x-axis, causing some overplotting losing detail - I created a 'zoomed-in' graph \n",
    "#to better examine these data points\n",
    "playr_time_age_plot_scaled <- players |> ggplot(aes(x = age, \n",
    "                            y = played_hours)) +\n",
    "                    geom_point(alpha = 0.25) +  scale_y_log10() +\n",
    "                    labs(color = \"Did the player subscribe?\") +\n",
    "                    ylab(\"Total hours Played\") + xlab(\"Age (in Years)\")\n",
    "\n",
    "playr_time_age_plot_scaled\n",
    "\n",
    "#here we can see that most points are below 10 hours played \n",
    "#and below 30 years (which makes sense for an undergraduate course)\n",
    "#We also see that the data does not visibly appear to have any linearity, \n",
    "#so we should likely use a KNN regression rather than a simple linear regression to\n",
    "#try to predict played hours based on age"
   ]
  },
  {
   "cell_type": "markdown",
   "id": "1c2e1cda-be9a-403d-a2e5-3cb633a86f46",
   "metadata": {},
   "source": [
    "Let's clean the data to answer this specific research question, removing uneccessary variables and removing NAs."
   ]
  },
  {
   "cell_type": "code",
   "execution_count": null,
   "id": "6ada6d74-f15d-40f8-a971-8cf87fe33eee",
   "metadata": {},
   "outputs": [],
   "source": [
    "players_knn <- players |> select(age, played_hours) |> na.omit()\n",
    "players_knn"
   ]
  },
  {
   "cell_type": "markdown",
   "id": "be4c8179-94a7-4432-a52a-9954022a4d7c",
   "metadata": {},
   "source": [
    "Now we will try to build a KNN regression model for our research question and then undergo cross validation to find the best K value. We will split the data first into a 75/25 split."
   ]
  },
  {
   "cell_type": "code",
   "execution_count": null,
   "id": "6e1fb181-b5e7-4a9f-82b1-6cc72e68295f",
   "metadata": {},
   "outputs": [],
   "source": [
    "#splitting the training and testing set\n",
    "knn_split <- initial_split(players_knn, prop = 0.75, strata = played_hours)\n",
    "knn_training <- training(knn_split)\n",
    "knn_testing <- testing(knn_split)"
   ]
  },
  {
   "cell_type": "code",
   "execution_count": null,
   "id": "03f828e1-bbbb-4cb5-b016-18a8d12a7425",
   "metadata": {},
   "outputs": [],
   "source": [
    "#building the model and recipe (e.g.,standardizing) for tuning\n",
    "knn_recipe <- recipe(played_hours ~ age, data = knn_training) |> step_center(all_predictors()) |>\n",
    "    step_scale(all_predictors())\n",
    "tune_knn_spec <- nearest_neighbor(weight_func = 'rectangular', neighbors = tune()) |> set_engine('kknn') |>\n",
    "    set_mode('regression')"
   ]
  },
  {
   "cell_type": "code",
   "execution_count": null,
   "id": "8141ed73-9023-4493-96ea-8a9513745073",
   "metadata": {},
   "outputs": [],
   "source": [
    "set.seed(1010) \n",
    "#for the purposes of consistency (for grading) I have preset the randomness - remove in real life circumstances!\n",
    "\n",
    "#creating 5 v folds and performing cross validation to find the best K\n",
    "vfolds <- vfold_cv(knn_training, v = 5, strata = played_hours)\n",
    "\n",
    "best_k_wflw <- workflow() |> add_recipe(knn_recipe) |> add_model(tune_knn_spec) \n",
    "\n",
    "k_vals <- tibble(neighbors = seq(from = 1, to = 10, by = 1))\n",
    "\n",
    "best_k_metrics <- best_k_wflw |> tune_grid(resamples = vfolds, grid = k_vals) |> collect_metrics() |> filter(.metric == 'rmse')\n",
    "\n",
    "best_reg_k <- best_k_metrics |> slice_min(mean, n=1) |> select(neighbors) |> pull()\n",
    "best_reg_k\n",
    "##our best K for this KNN regression is K = 5\n"
   ]
  },
  {
   "cell_type": "markdown",
   "id": "4aaf2183-c08d-4d6b-ad09-d8ef28a620c0",
   "metadata": {},
   "source": [
    "Now that we have found our best K value (5), we will create a new tuned model and test the  model on our test data."
   ]
  },
  {
   "cell_type": "code",
   "execution_count": null,
   "id": "4a567970-bd2d-4ee2-8fe9-e9f30653b1ba",
   "metadata": {},
   "outputs": [],
   "source": [
    "knn_reg_spec <- nearest_neighbor(weight_func = 'rectangular', neighbors = best_reg_k) |> set_engine('kknn') |>\n",
    "    set_mode('regression')\n",
    "\n",
    "#testing the k-fitted regression model on our testing data\n",
    "knn_reg_fit <- workflow() |> add_recipe(knn_recipe) |> add_model(knn_reg_spec) |> fit(knn_training)\n",
    "\n",
    "#predicting the test data and assessing its RMPSE\n",
    "knn_reg_test <- knn_reg_fit |> predict(knn_testing) |> \n",
    "        bind_cols(knn_testing) \n",
    "knn_reg_test\n",
    "knn_reg_test_metrics <- knn_reg_fit |> predict(knn_testing) |> \n",
    "        bind_cols(knn_testing) |> metrics(truth = played_hours, estimate = .pred) |> filter(.metric =='rmse')\n",
    "knn_reg_test_metrics"
   ]
  },
  {
   "cell_type": "code",
   "execution_count": null,
   "id": "c66a966a-bcc4-4fc1-bf0f-30042c22da4d",
   "metadata": {},
   "outputs": [],
   "source": [
    "#Let's visualize these predictions through a plot\n",
    "\n",
    "knn_reg_rmse_plot <- players_knn |> ggplot(aes(x = age, y = played_hours)) + geom_point() + \n",
    "        geom_line(data = knn_reg_test, mapping = aes(x = age, y = .pred), linewidth = 1, color = 'mediumseagreen') +\n",
    "        scale_y_log10() + ylab(\"Hours Played on Minecraft\") + xlab(\"Age (in years)\") + \n",
    "        theme(text = element_text(size = 15))\n",
    "\n",
    "knn_reg_rmse_plot"
   ]
  },
  {
   "cell_type": "code",
   "execution_count": null,
   "id": "d5f9f746-1ed6-42f6-b97f-8a2d2aa1156a",
   "metadata": {},
   "outputs": [],
   "source": []
  },
  {
   "cell_type": "markdown",
   "id": "1c9a3d47-6bad-4e40-877e-5bb413396b30",
   "metadata": {},
   "source": [
    "Based on this plot and the RMSPE, we can tell that the KNN regression model is not operating in a helpful way. This is likely due to the distribution of data, wherein there are many playersin the 20-30 year range and little data points in other ranges. This limits the model's ability to predict at extremes, as the KNN model starts to grab the same data points."
   ]
  },
  {
   "cell_type": "code",
   "execution_count": null,
   "id": "d6187acd-3c47-437a-bc19-8e6c34fd4dfb",
   "metadata": {},
   "outputs": [],
   "source": []
  }
 ],
 "metadata": {
  "kernelspec": {
   "display_name": "R",
   "language": "R",
   "name": "ir"
  },
  "language_info": {
   "codemirror_mode": "r",
   "file_extension": ".r",
   "mimetype": "text/x-r-source",
   "name": "R",
   "pygments_lexer": "r",
   "version": "4.3.3"
  }
 },
 "nbformat": 4,
 "nbformat_minor": 5
}
