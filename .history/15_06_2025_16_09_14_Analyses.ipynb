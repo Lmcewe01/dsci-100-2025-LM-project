{
 "cells": [
  {
   "cell_type": "markdown",
   "id": "71a04cb4-efd8-4239-af14-d074d5f97a44",
   "metadata": {},
   "source": [
    "**DSCI 100 Final Project: Predicting Usage of a Video Game Research Server**\n",
    "\n",
    "**Title: Predicting Minecraft Hours Played From Age Using K-Nearest Neighbors Regression**\n",
    "\n",
    "In the Computer Science Department at UBC, Dr. Frank Wood opened a Minecraft server to examine how people play videos games. Minecraft is a popular video game, developped in 2009, that allows players to explore, build, and create in a randomly-generated terrain made of voxels. From this server, two datasets have been generated, including the one used in this project: players.csv. \n",
    "\n",
    "For this final project, we would like to know which \"kinds\" of players are most likely to contribute a large amount of data so that others can target those players in their recruiting efforts. Specifically, I want to know: *can we predict minecraft playing time based on age using the 'players.csv' dataset?* This may help server managers to know which age groups to target to obtain the most data (operationalized through hours played). \n",
    "\n",
    "Let's start by installing/loading the proper libraries and reading in the datafile.\n"
   ]
  },
  {
   "cell_type": "code",
   "execution_count": null,
   "id": "502f155d-aed9-4687-974e-0e5cd85050f2",
   "metadata": {},
   "outputs": [],
   "source": [
    "#loading libraries for analyses - to install, use install.packages()!\n",
    "library(tidyverse)\n",
    "library(readr)\n",
    "library(tidymodels)\n",
    "library(scales)\n",
    "library(janitor)\n",
    "\n",
    "#preset the max rows shown when displaying data\n",
    "options(repr.matrix.max.rows = 6)"
   ]
  },
  {
   "cell_type": "code",
   "execution_count": null,
   "id": "a916f29c-73f5-4ce0-86b8-b656f517a93e",
   "metadata": {},
   "outputs": [],
   "source": [
    "#finding working directory\n",
    "getwd()"
   ]
  },
  {
   "cell_type": "code",
   "execution_count": null,
   "id": "734513ba-b0d3-48a8-929e-bcc4102477b1",
   "metadata": {},
   "outputs": [],
   "source": [
    "#read in the appropriate dataset called players.csv using a relative path and\n",
    "#cleaning col names to remove uneccessary capitals\n",
    "players <- read_delim('Data/players.csv', delim = ',', skip = 1 ) |> clean_names()\n",
    "players"
   ]
  },
  {
   "cell_type": "markdown",
   "id": "21a93229-5b74-4d84-ac11-8cda69d06a69",
   "metadata": {},
   "source": [
    "Let's break down the variables in this dataset.\n",
    "We have:\n",
    "- 196 observations (Individual players)\n",
    "- 7 variables ('experience', 'subscribe', 'hashed_email', 'played_hours', 'name', 'gender', and 'age')\n",
    "\n",
    "Of these variables, we have:\n",
    "1. Experience: This designates experience level of the player. While it is labeled as a character, we could use it as a factor. This variable will not be included in the following analyses.\n",
    "2. Subscribe: This logic variable tells us whether the player subscribed to a video-game-related newsletter. This variable will not be included in the following analyses.\n",
    "3. Hashed Email: A character string related to the player's email. This variable will not be included in the following analyses.\n",
    "4. **Played Hours ('played_hours'): A Double (dbl) variable showing the total sum of hours a player spent on the Minecraft server. We will be using this variable in our analyses.**\n",
    "5. Name: A character string detailing each player's first name. This variable will not be included in the following analyses.\n",
    "6. Gender: A categorical (fct) variable giving the gender of each player. While shown as a character, if used, would have to be transformed into a 'fct' data type. This variable will not be included in the following analyses.\n",
    "7. **Age ('age'): A double data type variable telling us the age (in years) of each player. We will be using this variable in our analyses.**\n",
    "\n",
    "Variables used in this analyses are displayed in **bold**. "
   ]
  },
  {
   "cell_type": "markdown",
   "id": "c17b1449-add9-43bd-b03e-16f8a5a764d9",
   "metadata": {},
   "source": [
    "Now that we have defined the variables, let's tale a look at our variables of interest and their distributions/summaries. We will also see if we have any NAs to deal with later in the analyses."
   ]
  },
  {
   "cell_type": "code",
   "execution_count": null,
   "id": "511c42f8-196b-40ea-879a-f6c3229ee901",
   "metadata": {},
   "outputs": [],
   "source": [
    "#checking for NAs in our dataset\n",
    "sum(is.na(players))"
   ]
  },
  {
   "cell_type": "code",
   "execution_count": null,
   "id": "8c0ba057-9a30-408b-ad43-5478c891de3f",
   "metadata": {},
   "outputs": [],
   "source": [
    "#plotting age and played_hours distributions\n",
    "\n",
    "age_histogram <- players |> ggplot(aes(x = age)) + geom_histogram() + ylab(\"Count\") + xlab(\"Age (in years)\") + \n",
    "    theme(text = element_text(size = 15)) + ggtitle(\"Figure 1: Age Distribution of the 'players.csv' Dataset\")\n",
    "age_histogram\n",
    "\n",
    "played_hrs_histogram <- players |> ggplot(aes(x = played_hours)) + geom_histogram() + ylab(\"Count\") + xlab(\"Hours Played\") + \n",
    "    theme(text = element_text(size = 15)) + ggtitle(\"Figure 2: Hours Played Distribution of 'players.csv' Dataset\")\n",
    "played_hrs_histogram"
   ]
  },
  {
   "cell_type": "code",
   "execution_count": null,
   "id": "46e6a91c-83e9-4794-99d3-a42b0b26ae7e",
   "metadata": {},
   "outputs": [],
   "source": [
    "#summary of the dataset\n",
    "\n",
    "summary(players, na.rm = TRUE)"
   ]
  },
  {
   "cell_type": "markdown",
   "id": "a9e66bed-106b-44e0-88db-c322a6989bdf",
   "metadata": {},
   "source": [
    "Limitations of this dataset:\n",
    "- We have detected 2 NA values. This is quite minor and will be removed later on in the analyses.\n",
    "- Our histograms show vary narrow variance, wherein most of the players fall in ages 20-30 and hours played are very low. Our summaries reflected a similar trend, wherin the average age is *M* = 20.52 (*min* = 8, *max* = 50) and average hours played being *M* = 5.85 (*min* = 0, *max* = 223.1). Interestingly, the median for hours played is 0.1, showing that the mean is being skewed by the very large values (such as our max of 223.1) and a lot of our observations are likely below this mean.\n",
    "\n",
    "*Why might our data be so oddly distributed?* This dataset, collected at UBC, holds unique characteristics that may not hold true to other Minecraft server datasets. As the dataset was mostly collected from undergraduate students (who tend to be in their 20s) this could shew our age data. Additionally, as this data has been collected through a 100-level course, it might affect the varying amount of hours of playing (and commitment to the class assignment). This makes the data look less harder for models (specifcally those with certain data assumptions) to handle.\n",
    "\n",
    "Now that we have explored the individual variables, let's plot our predictor (Age) and response variable (Hours Played) against each other to visualize potential relationships (and contemplate possible models)."
   ]
  },
  {
   "cell_type": "code",
   "execution_count": null,
   "id": "be96f2a3-85f5-4ab7-b0c8-ee76dbcb51d0",
   "metadata": {},
   "outputs": [],
   "source": [
    "#setting dimensions for the plots\n",
    "options(repr.plot.length = 10, repr.plot.width = 10)\n",
    "\n",
    "#setting up the plot\n",
    "playr_time_age_plot <- players |> ggplot(aes(x = age, \n",
    "                            y = played_hours)) +\n",
    "                    geom_point(alpha = 0.25) +  \n",
    "                    labs(color = \"Did the player subscribe?\") +\n",
    "                    ylab(\"Total hours Played\") + xlab(\"Age (in Years)\") + ggtitle(\"Figure 3: Age versus Hours Played\") +\n",
    "                    theme(text = element_text(size = 15)) \n",
    "\n",
    "playr_time_age_plot "
   ]
  },
  {
   "cell_type": "markdown",
   "id": "ce3a5da5-e02f-4ba5-a75e-8ac3d9747f7f",
   "metadata": {},
   "source": [
    "As we can see in Figure 3, many of the data points are close to the x-axis, making it difficult to see the distribution clearly. Figure 4 shows the same plot using logarithmic scaling to better distribute the data across the y-axis."
   ]
  },
  {
   "cell_type": "code",
   "execution_count": null,
   "id": "79abca67-eb35-4c1b-a4d9-327b813b5166",
   "metadata": {},
   "outputs": [],
   "source": [
    "\n",
    "playr_time_age_plot_scaled <- players |> ggplot(aes(x = age, \n",
    "                            y = played_hours)) +\n",
    "                    geom_point(alpha = 0.25) +  scale_y_log10() +\n",
    "                    labs(color = \"Did the player subscribe?\") +\n",
    "                    ylab(\"Total hours Played\") + xlab(\"Age (in Years)\") + ggtitle(\"Figure 4: Age versus Hours Played Scaled\") +\n",
    "                    theme(text = element_text(size = 15)) \n",
    "\n",
    "playr_time_age_plot_scaled"
   ]
  },
  {
   "cell_type": "markdown",
   "id": "1c2e1cda-be9a-403d-a2e5-3cb633a86f46",
   "metadata": {},
   "source": [
    "Here we can again confirm that a majority of our sample is young adults and hours played is mostly below 10 hours.  We also see that the data does not visibly appear to have any linearity and we cannot visually determine any strong correlations,  so we should likely use a KNN regression rather than a simple linear regression to try to predict played hours based on age. This choice was made on the basis that linear regression is typically only equipped for linear relationships, whereas KNN uses no assumptions about the data's shape. Thus, KNN is likely our best option.\n",
    "\n",
    "Let's clean the data to answer this specific research question, removing uneccessary variables and removing NAs."
   ]
  },
  {
   "cell_type": "code",
   "execution_count": null,
   "id": "6ada6d74-f15d-40f8-a971-8cf87fe33eee",
   "metadata": {},
   "outputs": [],
   "source": [
    "players_knn <- players |> select(age, played_hours) |> na.omit()\n",
    "players_knn"
   ]
  },
  {
   "cell_type": "markdown",
   "id": "be4c8179-94a7-4432-a52a-9954022a4d7c",
   "metadata": {},
   "source": [
    "Now we will try to build a KNN regression model for our research question and then undergo cross validation to find the best K value. Cross-validation is important as it lets us simulate several iterations of the RMSE (error) for our model to find the best K without sacrificing our testing data that we use for the final evaluation. We will split the data first into a 75/25 split to allow for enough data for training the model while leaving a subset for testing later."
   ]
  },
  {
   "cell_type": "code",
   "execution_count": null,
   "id": "6e1fb181-b5e7-4a9f-82b1-6cc72e68295f",
   "metadata": {},
   "outputs": [],
   "source": [
    "#splitting the training and testing set\n",
    "knn_split <- initial_split(players_knn, prop = 0.75, strata = played_hours)\n",
    "knn_training <- training(knn_split)\n",
    "knn_testing <- testing(knn_split)"
   ]
  },
  {
   "cell_type": "markdown",
   "id": "06abb9e5-dde3-4961-878c-340b242bca70",
   "metadata": {},
   "source": [
    "As the age and hours-played variable are on non-comparable scales, we will standardize the data."
   ]
  },
  {
   "cell_type": "code",
   "execution_count": null,
   "id": "03f828e1-bbbb-4cb5-b016-18a8d12a7425",
   "metadata": {},
   "outputs": [],
   "source": [
    "#building the model and recipe (e.g., standardizing) for tuning\n",
    "knn_recipe <- recipe(played_hours ~ age, data = knn_training) |> step_center(all_predictors()) |>\n",
    "    step_scale(all_predictors())\n",
    "tune_knn_spec <- nearest_neighbor(weight_func = 'rectangular', neighbors = tune()) |> set_engine('kknn') |>\n",
    "    set_mode('regression')"
   ]
  },
  {
   "cell_type": "markdown",
   "id": "cffc9022-3eae-473e-addd-20961069db4c",
   "metadata": {},
   "source": [
    "For the cross-validation, we will use the standard 5 folds so we obtain sufficient iterations without making our validation sets too small."
   ]
  },
  {
   "cell_type": "code",
   "execution_count": null,
   "id": "8141ed73-9023-4493-96ea-8a9513745073",
   "metadata": {},
   "outputs": [],
   "source": [
    "set.seed(6566) \n",
    "#for the purposes of consistency (for grading) I have preset the randomness - remove in real life circumstances!\n",
    "\n",
    "#creating 5 v folds and performing cross validation to find the best K\n",
    "vfolds <- vfold_cv(knn_training, v = 5, strata = played_hours)\n",
    "\n",
    "#creating our workflow for tuning\n",
    "best_k_wflw <- workflow() |> add_recipe(knn_recipe) |> add_model(tune_knn_spec) \n",
    "\n",
    "#setting our possible k_vals from 1-100, skipping by 10 \n",
    "k_vals <- tibble(neighbors = seq(from = 1, to = 100, by = 1))\n",
    "\n",
    "#undergoing cross-validation\n",
    "best_k_metrics <- best_k_wflw |> tune_grid(resamples = vfolds, grid = k_vals) |> collect_metrics() |> filter(.metric == 'rmse')\n",
    "\n",
    "#selecting our best K for this model according to our training data\n",
    "best_reg_k <- best_k_metrics |> slice_min(mean, n=1) |> select(neighbors) |> pull()\n",
    "best_reg_k\n"
   ]
  },
  {
   "cell_type": "markdown",
   "id": "4aaf2183-c08d-4d6b-ad09-d8ef28a620c0",
   "metadata": {},
   "source": [
    "Now that we have found our best K value, we will create a newly-tuned model and evaluate the  model on our test data."
   ]
  },
  {
   "cell_type": "code",
   "execution_count": null,
   "id": "4a567970-bd2d-4ee2-8fe9-e9f30653b1ba",
   "metadata": {},
   "outputs": [],
   "source": [
    "#creating our newly-tuned model\n",
    "knn_reg_spec <- nearest_neighbor(weight_func = 'rectangular', neighbors = best_reg_k) |> set_engine('kknn') |>\n",
    "    set_mode('regression')\n",
    "\n",
    "#pre-prcessing testing data to standrarize it accordingly\n",
    "knn_recipe <- recipe(played_hours ~ age, data = knn_training) |> step_center(all_predictors()) |>\n",
    "    step_scale(all_predictors())\n",
    "\n",
    "#fitting the tuned regression model on our training data\n",
    "knn_reg_fit <- workflow() |> add_recipe(knn_recipe) |> add_model(knn_reg_spec) |> fit(knn_training)\n",
    "\n",
    "#predicting the test data, assessing its RMPSE and attaching it to the testing data\n",
    "knn_reg_test <- knn_reg_fit |> predict(knn_testing) |> \n",
    "        bind_cols(knn_testing) \n",
    "\n",
    "#evaluating the prediction error to find our RMSPE\n",
    "knn_reg_test_metrics <- knn_reg_test |> metrics(truth = played_hours, estimate = .pred) |> filter(.metric =='rmse')\n",
    "knn_reg_test_metrics"
   ]
  },
  {
   "cell_type": "markdown",
   "id": "42b7c593-bb94-43e7-9b82-1bfc9dff7c8f",
   "metadata": {},
   "source": [
    "We have our RMSPE, but it is much easier to understand the model's accuracy through a plot. Let's try that now:"
   ]
  },
  {
   "cell_type": "code",
   "execution_count": null,
   "id": "c66a966a-bcc4-4fc1-bf0f-30042c22da4d",
   "metadata": {},
   "outputs": [],
   "source": [
    "#plotting the actual data as a scatterplot and the model's estimate as a line plot\n",
    "knn_reg_rmse_plot <- players_knn |> ggplot(aes(x = age, y = played_hours)) + geom_point(alpha = 0.25) + \n",
    "        geom_line(data = knn_reg_test, mapping = aes(x = age, y = .pred), linewidth = 1, color = 'mediumseagreen') +\n",
    "        scale_y_log10(labels = label_comma()) + ylab(\"Hours Played on Minecraft\") + xlab(\"Age (in years)\") + \n",
    "        theme(text = element_text(size = 15)) + ggtitle(\"Figure 5: KNN Regression Model Plotted Against Players Data\")\n",
    "\n",
    "knn_reg_rmse_plot"
   ]
  },
  {
   "cell_type": "markdown",
   "id": "1c9a3d47-6bad-4e40-877e-5bb413396b30",
   "metadata": {},
   "source": [
    "Based on this plot and the RMSPE, we can tell that the KNN regression model is not operating in a very helpful way. This does fit with my original expectations based on the unique distrubition of the data, wherein there are many players in the 20-30 year range and little data points in other ranges. This may limit the model's ability to predict at extremes, as the KNN model starts to grab the same data points over and over. Another flaw is that this model cannot capture the extreme variance we do see in hours played, as much of the data is very low, though there are some extreme higher values that are not being captured.\n",
    "\n",
    "Next steps to improve this model would to hopefully capture more data in age ranges beyond the 20-30 year period, which could help improve our model's accuracy at the extreme ends. In terms of the exteme variance we see in hours played, it could be possible that we are seeing differnt trajectories, wherein many players fall in the 0-1 playing hours range, but another subgroup is playing far more. In this case, a different model (such as clustering) might be useful to capture each subgroup, making the model more specific and accurate."
   ]
  }
 ],
 "metadata": {
  "kernelspec": {
   "display_name": "R",
   "language": "R",
   "name": "ir"
  },
  "language_info": {
   "codemirror_mode": "r",
   "file_extension": ".r",
   "mimetype": "text/x-r-source",
   "name": "R",
   "pygments_lexer": "r",
   "version": "4.3.3"
  }
 },
 "nbformat": 4,
 "nbformat_minor": 5
}
